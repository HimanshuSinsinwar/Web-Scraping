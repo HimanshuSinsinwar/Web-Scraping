{
 "cells": [
  {
   "cell_type": "code",
   "execution_count": 46,
   "metadata": {},
   "outputs": [],
   "source": [
    "import requests\n",
    "import pandas as pd\n",
    "from selenium import webdriver"
   ]
  },
  {
   "cell_type": "code",
   "execution_count": 47,
   "metadata": {
    "scrolled": true
   },
   "outputs": [
    {
     "name": "stderr",
     "output_type": "stream",
     "text": [
      "C:\\Users\\ADMIN\\anaconda3\\lib\\site-packages\\ipykernel_launcher.py:2: DeprecationWarning: executable_path has been deprecated, please pass in a Service object\n",
      "  \n"
     ]
    }
   ],
   "source": [
    "driver_path=r'C:\\Users\\ADMIN\\Documents\\chromedriver.exe'\n",
    "browser = webdriver.Chrome(executable_path=driver_path)"
   ]
  },
  {
   "cell_type": "code",
   "execution_count": 48,
   "metadata": {},
   "outputs": [],
   "source": [
    "browser.get(\"https://www.amazon.in/s?k=mobile+under+20000&ref=nb_sb_noss_2\")"
   ]
  },
  {
   "cell_type": "code",
   "execution_count": 49,
   "metadata": {},
   "outputs": [],
   "source": [
    "product_name=browser.find_elements_by_xpath(\"//span[contains(@class,'a-size-medium a-color-base a-text-normal')]\")\n",
    "product_price=browser.find_elements_by_xpath(\"//span[@class='a-price-whole']\")\n",
    "product_image=browser.find_elements_by_xpath(\"//img[contains(@srcset,'m.media')]\")\n",
    "product_average_rating=browser.find_elements_by_xpath(\"//span[contains(@aria-label,'out')]\")"
   ]
  },
  {
   "cell_type": "code",
   "execution_count": 50,
   "metadata": {},
   "outputs": [
    {
     "data": {
      "text/plain": [
       "['Redmi 9A (Nature Green, 2GB Ram, 32GB Storage)',\n",
       " 'Redmi 9 (Sky Blue, 4GB RAM, 64GB Storage)',\n",
       " 'Samsung Galaxy M31 Prime Edition (Space Black, 6GB RAM, 128GB Storage)',\n",
       " 'Oppo A31 (Fantasy White, 6GB RAM, 128GB Storage) with No Cost EMI/Additional Exchange Offers',\n",
       " 'Samsung Galaxy M01 (Black, 3GB RAM, 32GB Storage) with No Cost EMI/Additional Exchange Offers',\n",
       " 'Samsung Galaxy M21 (Midnight Blue, 4GB RAM, 64GB Storage)',\n",
       " 'Oppo A31 (Mystery Black, 6GB RAM, 128GB Storage) with No Cost EMI/Additional Exchange Offers',\n",
       " 'Samsung Galaxy M01 Core (Black, 2GB RAM, 32GB Storage) with No Cost EMI/Additional Exchange Offers',\n",
       " 'Panasonic Eluga i7 (2GB RAM, 16GB Storage, Finger Print Sensor, 4000mAh Battery) (Black)',\n",
       " 'Samsung Galaxy M01 (Blue, 3GB RAM, 32GB Storage) with No Cost EMI/Additional Exchange Offers',\n",
       " 'Samsung Galaxy M31s (Mirage Blue, 6GB RAM, 128GB Storage)',\n",
       " 'Redmi 8A Dual (Sky White, 3GB RAM, 64GB Storage) – Dual Cameras & 5,000 mAH Battery',\n",
       " 'Redmi 9A (Sea Blue, 2GB Ram, 32GB Storage)',\n",
       " 'Samsung Galaxy M01 Core (Black, 1GB RAM, 16GB Storage) with No Cost EMI/Additional Exchange Offers',\n",
       " 'Redmi 9A (Midnight Black, 3GB Ram, 32GB Storage)',\n",
       " \"itel A47 (Ice Lake Blue, 2GB RAM, 32GB Storage, 5.5'' HD+ IPS Display)\"]"
      ]
     },
     "execution_count": 50,
     "metadata": {},
     "output_type": "execute_result"
    }
   ],
   "source": [
    "name=[]\n",
    "for m in product_name:\n",
    "    n=m.text\n",
    "    name.append(n)\n",
    "name"
   ]
  },
  {
   "cell_type": "code",
   "execution_count": 51,
   "metadata": {},
   "outputs": [
    {
     "data": {
      "text/plain": [
       "['6,999',\n",
       " '8,999',\n",
       " '16,499',\n",
       " '19,499',\n",
       " '13,999',\n",
       " '11,990',\n",
       " '7,499',\n",
       " '13,999',\n",
       " '11,990',\n",
       " '5,999',\n",
       " '5,000',\n",
       " '7,499',\n",
       " '19,499',\n",
       " '7,999',\n",
       " '6,999',\n",
       " '4,999',\n",
       " '7,499',\n",
       " '5,499']"
      ]
     },
     "execution_count": 51,
     "metadata": {},
     "output_type": "execute_result"
    }
   ],
   "source": [
    "price=[]\n",
    "for m in product_price:\n",
    "    n=m.text\n",
    "    if n!=\"\":\n",
    "        price.append(n)\n",
    "price"
   ]
  },
  {
   "cell_type": "code",
   "execution_count": 52,
   "metadata": {},
   "outputs": [
    {
     "data": {
      "text/plain": [
       "['https://m.media-amazon.com/images/I/71hDPUM7VPL._AC_UY218_.jpg',\n",
       " 'https://m.media-amazon.com/images/I/71A9Vo1BatL._AC_UY218_.jpg',\n",
       " 'https://m.media-amazon.com/images/I/71Sinqbw35L._AC_UY218_.jpg',\n",
       " 'https://m.media-amazon.com/images/I/71BFG8Zu7zL._AC_UL320_.jpg',\n",
       " 'https://m.media-amazon.com/images/I/71QLvGIAq5L._AC_UL320_.jpg',\n",
       " 'https://m.media-amazon.com/images/I/71XpBd7i1SL._AC_UL320_.jpg',\n",
       " 'https://m.media-amazon.com/images/I/71jzMLHiMfL._AC_UL320_.jpg',\n",
       " 'https://m.media-amazon.com/images/I/61CnyJ-IbML._AC_UY218_.jpg',\n",
       " 'https://m.media-amazon.com/images/I/81onqHVeECL._AC_UY218_.jpg',\n",
       " 'https://m.media-amazon.com/images/I/71dujTTJDZL._AC_UY218_.jpg',\n",
       " 'https://m.media-amazon.com/images/I/71KCwNV6MuL._AC_UY218_.jpg',\n",
       " 'https://m.media-amazon.com/images/I/71AYb2AGHXL._AC_UY218_.jpg',\n",
       " 'https://m.media-amazon.com/images/I/41QsvcpKaZL._AC_UY218_.jpg',\n",
       " 'https://m.media-amazon.com/images/I/81o1rDu5FZL._AC_UY218_.jpg',\n",
       " 'https://m.media-amazon.com/images/I/61d-phh4GfL._AC_UY218_.jpg',\n",
       " 'https://m.media-amazon.com/images/I/710p2f-zAdL._AC_UY218_.jpg',\n",
       " 'https://m.media-amazon.com/images/I/71hDPUM7VPL._AC_UY218_.jpg',\n",
       " 'https://m.media-amazon.com/images/I/71AYb2AGHXL._AC_UY218_.jpg',\n",
       " 'https://m.media-amazon.com/images/I/71hDPUM7VPL._AC_UY218_.jpg',\n",
       " 'https://m.media-amazon.com/images/I/71a5PtqIv7L._AC_UY218_.jpg']"
      ]
     },
     "execution_count": 52,
     "metadata": {},
     "output_type": "execute_result"
    }
   ],
   "source": [
    "image=[]\n",
    "for m in product_image:\n",
    "    n=m.get_attribute('src')\n",
    "    image.append(n)\n",
    "image"
   ]
  },
  {
   "cell_type": "code",
   "execution_count": 53,
   "metadata": {},
   "outputs": [
    {
     "data": {
      "text/plain": [
       "['4.2 out of 5 stars',\n",
       " '4.0 out of 5 stars',\n",
       " '4.2 out of 5 stars',\n",
       " '4.3 out of 5 stars',\n",
       " '4.2 out of 5 stars',\n",
       " '4.1 out of 5 stars',\n",
       " '3.9 out of 5 stars',\n",
       " '4.0 out of 5 stars',\n",
       " '3.9 out of 5 stars',\n",
       " '4.2 out of 5 stars',\n",
       " '4.0 out of 5 stars',\n",
       " '3.4 out of 5 stars',\n",
       " '2.8 out of 5 stars',\n",
       " '3.9 out of 5 stars',\n",
       " '4.3 out of 5 stars',\n",
       " '4.1 out of 5 stars',\n",
       " '4.2 out of 5 stars',\n",
       " '3.4 out of 5 stars',\n",
       " '4.2 out of 5 stars']"
      ]
     },
     "execution_count": 53,
     "metadata": {},
     "output_type": "execute_result"
    }
   ],
   "source": [
    "rating=[]\n",
    "for m in product_average_rating:\n",
    "    n=m.get_attribute('aria-label')\n",
    "    rating.append(n)\n",
    "rating"
   ]
  },
  {
   "cell_type": "code",
   "execution_count": null,
   "metadata": {},
   "outputs": [],
   "source": []
  }
 ],
 "metadata": {
  "kernelspec": {
   "display_name": "Python 3",
   "language": "python",
   "name": "python3"
  },
  "language_info": {
   "codemirror_mode": {
    "name": "ipython",
    "version": 3
   },
   "file_extension": ".py",
   "mimetype": "text/x-python",
   "name": "python",
   "nbconvert_exporter": "python",
   "pygments_lexer": "ipython3",
   "version": "3.7.6"
  }
 },
 "nbformat": 4,
 "nbformat_minor": 4
}
