{
 "cells": [
  {
   "cell_type": "code",
   "execution_count": 2,
   "metadata": {},
   "outputs": [],
   "source": [
    "import requests\n",
    "import pandas as pd\n",
    "from selenium import webdriver"
   ]
  },
  {
   "cell_type": "code",
   "execution_count": 3,
   "metadata": {},
   "outputs": [
    {
     "name": "stderr",
     "output_type": "stream",
     "text": [
      "C:\\Users\\ADMIN\\anaconda3\\lib\\site-packages\\ipykernel_launcher.py:2: DeprecationWarning: executable_path has been deprecated, please pass in a Service object\n",
      "  \n"
     ]
    }
   ],
   "source": [
    "driver_path=r'C:\\Users\\ADMIN\\Documents\\chromedriver.exe'\n",
    "browser = webdriver.Chrome(executable_path=driver_path)"
   ]
  },
  {
   "cell_type": "code",
   "execution_count": 4,
   "metadata": {},
   "outputs": [],
   "source": [
    "browser.get(\"https://bookpage.com/reviews\")"
   ]
  },
  {
   "cell_type": "code",
   "execution_count": 11,
   "metadata": {},
   "outputs": [
    {
     "name": "stderr",
     "output_type": "stream",
     "text": [
      "C:\\Users\\ADMIN\\anaconda3\\lib\\site-packages\\selenium\\webdriver\\remote\\webdriver.py:470: UserWarning: find_elements_by_* commands are deprecated. Please use find_elements() instead\n",
      "  warnings.warn(\"find_elements_by_* commands are deprecated. Please use find_elements() instead\")\n"
     ]
    }
   ],
   "source": [
    "book_name=browser.find_elements_by_xpath(\"//a[contains(@href,'/reviews/')]\")\n",
    "author_name=browser.find_elements_by_xpath(\"//p[@class='sans bold']\")\n",
    "book_genre=browser.find_elements_by_xpath(\"//p[@class='genre-links hidden-phone']\")\n",
    "book_review=browser.find_elements_by_xpath(\"//p[@class='excerpt']\")\n",
    "book_review_alternate=browser.find_elements_by_xpath(\"//p\")"
   ]
  },
  {
   "cell_type": "code",
   "execution_count": 6,
   "metadata": {},
   "outputs": [],
   "source": [
    "authorname=[]\n",
    "for a in author_name:\n",
    "    authorname.append(a.text)"
   ]
  },
  {
   "cell_type": "code",
   "execution_count": 7,
   "metadata": {},
   "outputs": [],
   "source": [
    "bookgenre=[]\n",
    "for a in book_genre:\n",
    "    bookgenre.append(a.text)"
   ]
  },
  {
   "cell_type": "code",
   "execution_count": 17,
   "metadata": {
    "scrolled": true
   },
   "outputs": [],
   "source": [
    "bookreview=[]\n",
    "for a in book_review:\n",
    "    bookreview.append(a.text)"
   ]
  },
  {
   "cell_type": "code",
   "execution_count": 18,
   "metadata": {},
   "outputs": [],
   "source": [
    "bookname=[]\n",
    "for m in book_name:\n",
    "    n=m.text\n",
    "    if (n!=\"READ THE REVIEW\") and (n!=\"\"):\n",
    "        bookname.append(n)"
   ]
  },
  {
   "cell_type": "code",
   "execution_count": 19,
   "metadata": {},
   "outputs": [
    {
     "data": {
      "text/html": [
       "<div>\n",
       "<style scoped>\n",
       "    .dataframe tbody tr th:only-of-type {\n",
       "        vertical-align: middle;\n",
       "    }\n",
       "\n",
       "    .dataframe tbody tr th {\n",
       "        vertical-align: top;\n",
       "    }\n",
       "\n",
       "    .dataframe thead th {\n",
       "        text-align: right;\n",
       "    }\n",
       "</style>\n",
       "<table border=\"1\" class=\"dataframe\">\n",
       "  <thead>\n",
       "    <tr style=\"text-align: right;\">\n",
       "      <th></th>\n",
       "      <th>Book Name</th>\n",
       "      <th>Author Name</th>\n",
       "      <th>Book Genre</th>\n",
       "      <th>Book Review</th>\n",
       "    </tr>\n",
       "  </thead>\n",
       "  <tbody>\n",
       "    <tr>\n",
       "      <th>0</th>\n",
       "      <td>Ancestor Approved</td>\n",
       "      <td>Cynthia Leitich Smith</td>\n",
       "      <td>Children’s / Middle Grade</td>\n",
       "      <td></td>\n",
       "    </tr>\n",
       "    <tr>\n",
       "      <th>1</th>\n",
       "      <td>★ The Midnight Fair</td>\n",
       "      <td>Gideon Sterer, Mariachiara Di Giorgio</td>\n",
       "      <td>Children’s / Children’s Picture Book</td>\n",
       "      <td></td>\n",
       "    </tr>\n",
       "    <tr>\n",
       "      <th>2</th>\n",
       "      <td>★ City of the Uncommon Thief</td>\n",
       "      <td>Lynne Bertrand</td>\n",
       "      <td>YA / YA Fiction</td>\n",
       "      <td></td>\n",
       "    </tr>\n",
       "    <tr>\n",
       "      <th>3</th>\n",
       "      <td>How the One-Armed Sister Sweeps Her House</td>\n",
       "      <td>Cherie Jones</td>\n",
       "      <td>Fiction / Literary Fiction</td>\n",
       "      <td></td>\n",
       "    </tr>\n",
       "    <tr>\n",
       "      <th>4</th>\n",
       "      <td>Super Host</td>\n",
       "      <td>Kate Russo</td>\n",
       "      <td>Fiction / Family Drama</td>\n",
       "      <td>In Super Host, the first novel from Kate Russo...</td>\n",
       "    </tr>\n",
       "    <tr>\n",
       "      <th>5</th>\n",
       "      <td>The Paris Library</td>\n",
       "      <td>Janet Skeslien Charles</td>\n",
       "      <td>Fiction / Historical Fiction</td>\n",
       "      <td></td>\n",
       "    </tr>\n",
       "    <tr>\n",
       "      <th>6</th>\n",
       "      <td>Anonymouse</td>\n",
       "      <td>Vikki VanSickle, Anna Pirolli</td>\n",
       "      <td>Children’s / Children’s Picture Book</td>\n",
       "      <td></td>\n",
       "    </tr>\n",
       "    <tr>\n",
       "      <th>7</th>\n",
       "      <td>The Ratline</td>\n",
       "      <td>Philippe Sands</td>\n",
       "      <td>Nonfiction / Biography / European History</td>\n",
       "      <td></td>\n",
       "    </tr>\n",
       "    <tr>\n",
       "      <th>8</th>\n",
       "      <td>The Bad Muslim Discount</td>\n",
       "      <td>Syed M. Masood</td>\n",
       "      <td>Fiction / Coming of Age</td>\n",
       "      <td>Syed M. Masood mixes humor with tragedy. When ...</td>\n",
       "    </tr>\n",
       "    <tr>\n",
       "      <th>9</th>\n",
       "      <td>Of a Feather</td>\n",
       "      <td>Dayna Lorentz</td>\n",
       "      <td>Children’s / Middle Grade</td>\n",
       "      <td></td>\n",
       "    </tr>\n",
       "  </tbody>\n",
       "</table>\n",
       "</div>"
      ],
      "text/plain": [
       "                                   Book Name  \\\n",
       "0                          Ancestor Approved   \n",
       "1                        ★ The Midnight Fair   \n",
       "2               ★ City of the Uncommon Thief   \n",
       "3  How the One-Armed Sister Sweeps Her House   \n",
       "4                                 Super Host   \n",
       "5                          The Paris Library   \n",
       "6                                 Anonymouse   \n",
       "7                                The Ratline   \n",
       "8                    The Bad Muslim Discount   \n",
       "9                               Of a Feather   \n",
       "\n",
       "                             Author Name  \\\n",
       "0                  Cynthia Leitich Smith   \n",
       "1  Gideon Sterer, Mariachiara Di Giorgio   \n",
       "2                         Lynne Bertrand   \n",
       "3                           Cherie Jones   \n",
       "4                             Kate Russo   \n",
       "5                 Janet Skeslien Charles   \n",
       "6          Vikki VanSickle, Anna Pirolli   \n",
       "7                         Philippe Sands   \n",
       "8                         Syed M. Masood   \n",
       "9                          Dayna Lorentz   \n",
       "\n",
       "                                  Book Genre  \\\n",
       "0                  Children’s / Middle Grade   \n",
       "1       Children’s / Children’s Picture Book   \n",
       "2                            YA / YA Fiction   \n",
       "3                 Fiction / Literary Fiction   \n",
       "4                     Fiction / Family Drama   \n",
       "5               Fiction / Historical Fiction   \n",
       "6       Children’s / Children’s Picture Book   \n",
       "7  Nonfiction / Biography / European History   \n",
       "8                    Fiction / Coming of Age   \n",
       "9                  Children’s / Middle Grade   \n",
       "\n",
       "                                         Book Review  \n",
       "0                                                     \n",
       "1                                                     \n",
       "2                                                     \n",
       "3                                                     \n",
       "4  In Super Host, the first novel from Kate Russo...  \n",
       "5                                                     \n",
       "6                                                     \n",
       "7                                                     \n",
       "8  Syed M. Masood mixes humor with tragedy. When ...  \n",
       "9                                                     "
      ]
     },
     "execution_count": 19,
     "metadata": {},
     "output_type": "execute_result"
    }
   ],
   "source": [
    "bookpage_data=pd.DataFrame({'Book Name':bookname,'Author Name':authorname,'Book Genre':bookgenre ,'Book Review':bookreview})\n",
    "bookpage_data"
   ]
  },
  {
   "cell_type": "code",
   "execution_count": null,
   "metadata": {},
   "outputs": [],
   "source": []
  }
 ],
 "metadata": {
  "kernelspec": {
   "display_name": "Python 3",
   "language": "python",
   "name": "python3"
  },
  "language_info": {
   "codemirror_mode": {
    "name": "ipython",
    "version": 3
   },
   "file_extension": ".py",
   "mimetype": "text/x-python",
   "name": "python",
   "nbconvert_exporter": "python",
   "pygments_lexer": "ipython3",
   "version": "3.7.6"
  }
 },
 "nbformat": 4,
 "nbformat_minor": 4
}
