{
 "cells": [
  {
   "cell_type": "code",
   "execution_count": 26,
   "metadata": {},
   "outputs": [],
   "source": [
    "import requests\n",
    "import pandas as pd\n",
    "from bs4 import BeautifulSoup"
   ]
  },
  {
   "cell_type": "code",
   "execution_count": 27,
   "metadata": {},
   "outputs": [
    {
     "name": "stdout",
     "output_type": "stream",
     "text": [
      "<div class=\"tombstone-container\">\n",
      " <p class=\"period-name\">\n",
      "  Overnight\n",
      "  <br/>\n",
      "  <br/>\n",
      " </p>\n",
      " <p>\n",
      "  <img alt=\"Overnight: Mostly cloudy, with a low around 46. West southwest wind 5 to 7 mph. \" class=\"forecast-icon\" src=\"newimages/medium/nbkn.png\" title=\"Overnight: Mostly cloudy, with a low around 46. West southwest wind 5 to 7 mph. \"/>\n",
      " </p>\n",
      " <p class=\"short-desc\">\n",
      "  Mostly Cloudy\n",
      " </p>\n",
      " <p class=\"temp temp-low\">\n",
      "  Low: 46 °F\n",
      " </p>\n",
      "</div>\n"
     ]
    }
   ],
   "source": [
    "page = requests.get(\"http://forecast.weather.gov/MapClick.php?lat=37.7772&lon=-122.4168\")\n",
    "soup = BeautifulSoup(page.content, 'html.parser')\n",
    "seven_day = soup.find(id=\"seven-day-forecast\")\n",
    "forecast_items = seven_day.find_all(class_=\"tombstone-container\")\n",
    "tonight = forecast_items[0]\n",
    "print(tonight.prettify())"
   ]
  },
  {
   "cell_type": "code",
   "execution_count": 28,
   "metadata": {},
   "outputs": [
    {
     "name": "stdout",
     "output_type": "stream",
     "text": [
      "Overnight\n",
      "Mostly Cloudy\n",
      "Low: 46 °F\n"
     ]
    }
   ],
   "source": [
    "period = tonight.find(class_=\"period-name\").get_text()\n",
    "short_desc=tonight.find(class_=\"short-desc\").get_text()\n",
    "temp=tonight.find(class_='temp').get_text()\n",
    "print(period)\n",
    "print(short_desc)\n",
    "print(temp)"
   ]
  },
  {
   "cell_type": "code",
   "execution_count": 29,
   "metadata": {},
   "outputs": [
    {
     "name": "stdout",
     "output_type": "stream",
     "text": [
      "Overnight: Mostly cloudy, with a low around 46. West southwest wind 5 to 7 mph. \n"
     ]
    }
   ],
   "source": [
    "img = tonight.find(\"img\")\n",
    "desc = img['title']\n",
    "\n",
    "print(desc)"
   ]
  },
  {
   "cell_type": "code",
   "execution_count": 30,
   "metadata": {},
   "outputs": [
    {
     "data": {
      "text/plain": [
       "['Overnight',\n",
       " 'Monday',\n",
       " 'MondayNight',\n",
       " 'Tuesday',\n",
       " 'TuesdayNight',\n",
       " 'Wednesday',\n",
       " 'WednesdayNight',\n",
       " 'Thursday',\n",
       " 'ThursdayNight']"
      ]
     },
     "execution_count": 30,
     "metadata": {},
     "output_type": "execute_result"
    }
   ],
   "source": [
    "period_tags = seven_day.select('.tombstone-container .period-name')\n",
    "periods=[pt.get_text() for pt in period_tags]\n",
    "periods"
   ]
  },
  {
   "cell_type": "code",
   "execution_count": 31,
   "metadata": {},
   "outputs": [
    {
     "name": "stdout",
     "output_type": "stream",
     "text": [
      "['Mostly Cloudy', 'Patchy Fogthen MostlyCloudy', 'Mostly Cloudy', 'Mostly Cloudy', 'Partly Cloudy', 'Sunny', 'Partly Cloudy', 'ChanceShowers', 'ChanceShowers']\n",
      "['Low: 46 °F', 'High: 58 °F', 'Low: 49 °F', 'High: 58 °F', 'Low: 47 °F', 'High: 60 °F', 'Low: 48 °F', 'High: 58 °F', 'Low: 50 °F']\n",
      "['Overnight: Mostly cloudy, with a low around 46. West southwest wind 5 to 7 mph. ', 'Monday: Patchy fog between 7am and 9am.  Otherwise, mostly cloudy, with a high near 58. Calm wind becoming west 5 to 9 mph in the afternoon. ', 'Monday Night: Mostly cloudy, with a low around 49. West wind 7 to 9 mph. ', 'Tuesday: Mostly cloudy, with a high near 58. West wind 7 to 10 mph. ', 'Tuesday Night: Partly cloudy, with a low around 47. West wind 5 to 8 mph becoming calm  after midnight. ', 'Wednesday: Sunny, with a high near 60.', 'Wednesday Night: Partly cloudy, with a low around 48.', 'Thursday: A chance of showers.  Mostly cloudy, with a high near 58.', 'Thursday Night: A chance of showers.  Mostly cloudy, with a low around 50.']\n"
     ]
    }
   ],
   "source": [
    "short_descs = [sd.get_text() for sd in seven_day.select(\".tombstone-container .short-desc\")]\n",
    "temps = [t.get_text() for t in seven_day.select(\".tombstone-container .temp\")]\n",
    "descs = [d['title'] for d in seven_day.select(\".tombstone-container img\")]\n",
    "print(short_descs)\n",
    "print(temps)\n",
    "print(descs)"
   ]
  },
  {
   "cell_type": "code",
   "execution_count": 32,
   "metadata": {},
   "outputs": [
    {
     "data": {
      "text/html": [
       "<div>\n",
       "<style scoped>\n",
       "    .dataframe tbody tr th:only-of-type {\n",
       "        vertical-align: middle;\n",
       "    }\n",
       "\n",
       "    .dataframe tbody tr th {\n",
       "        vertical-align: top;\n",
       "    }\n",
       "\n",
       "    .dataframe thead th {\n",
       "        text-align: right;\n",
       "    }\n",
       "</style>\n",
       "<table border=\"1\" class=\"dataframe\">\n",
       "  <thead>\n",
       "    <tr style=\"text-align: right;\">\n",
       "      <th></th>\n",
       "      <th>period</th>\n",
       "      <th>short_desc</th>\n",
       "      <th>temp</th>\n",
       "      <th>desc</th>\n",
       "    </tr>\n",
       "  </thead>\n",
       "  <tbody>\n",
       "    <tr>\n",
       "      <th>0</th>\n",
       "      <td>Overnight</td>\n",
       "      <td>Mostly Cloudy</td>\n",
       "      <td>Low: 46 °F</td>\n",
       "      <td>Overnight: Mostly cloudy, with a low around 46...</td>\n",
       "    </tr>\n",
       "    <tr>\n",
       "      <th>1</th>\n",
       "      <td>Monday</td>\n",
       "      <td>Patchy Fogthen MostlyCloudy</td>\n",
       "      <td>High: 58 °F</td>\n",
       "      <td>Monday: Patchy fog between 7am and 9am.  Other...</td>\n",
       "    </tr>\n",
       "    <tr>\n",
       "      <th>2</th>\n",
       "      <td>MondayNight</td>\n",
       "      <td>Mostly Cloudy</td>\n",
       "      <td>Low: 49 °F</td>\n",
       "      <td>Monday Night: Mostly cloudy, with a low around...</td>\n",
       "    </tr>\n",
       "    <tr>\n",
       "      <th>3</th>\n",
       "      <td>Tuesday</td>\n",
       "      <td>Mostly Cloudy</td>\n",
       "      <td>High: 58 °F</td>\n",
       "      <td>Tuesday: Mostly cloudy, with a high near 58. W...</td>\n",
       "    </tr>\n",
       "    <tr>\n",
       "      <th>4</th>\n",
       "      <td>TuesdayNight</td>\n",
       "      <td>Partly Cloudy</td>\n",
       "      <td>Low: 47 °F</td>\n",
       "      <td>Tuesday Night: Partly cloudy, with a low aroun...</td>\n",
       "    </tr>\n",
       "    <tr>\n",
       "      <th>5</th>\n",
       "      <td>Wednesday</td>\n",
       "      <td>Sunny</td>\n",
       "      <td>High: 60 °F</td>\n",
       "      <td>Wednesday: Sunny, with a high near 60.</td>\n",
       "    </tr>\n",
       "    <tr>\n",
       "      <th>6</th>\n",
       "      <td>WednesdayNight</td>\n",
       "      <td>Partly Cloudy</td>\n",
       "      <td>Low: 48 °F</td>\n",
       "      <td>Wednesday Night: Partly cloudy, with a low aro...</td>\n",
       "    </tr>\n",
       "    <tr>\n",
       "      <th>7</th>\n",
       "      <td>Thursday</td>\n",
       "      <td>ChanceShowers</td>\n",
       "      <td>High: 58 °F</td>\n",
       "      <td>Thursday: A chance of showers.  Mostly cloudy,...</td>\n",
       "    </tr>\n",
       "    <tr>\n",
       "      <th>8</th>\n",
       "      <td>ThursdayNight</td>\n",
       "      <td>ChanceShowers</td>\n",
       "      <td>Low: 50 °F</td>\n",
       "      <td>Thursday Night: A chance of showers.  Mostly c...</td>\n",
       "    </tr>\n",
       "  </tbody>\n",
       "</table>\n",
       "</div>"
      ],
      "text/plain": [
       "           period                   short_desc         temp  \\\n",
       "0       Overnight                Mostly Cloudy   Low: 46 °F   \n",
       "1          Monday  Patchy Fogthen MostlyCloudy  High: 58 °F   \n",
       "2     MondayNight                Mostly Cloudy   Low: 49 °F   \n",
       "3         Tuesday                Mostly Cloudy  High: 58 °F   \n",
       "4    TuesdayNight                Partly Cloudy   Low: 47 °F   \n",
       "5       Wednesday                        Sunny  High: 60 °F   \n",
       "6  WednesdayNight                Partly Cloudy   Low: 48 °F   \n",
       "7        Thursday                ChanceShowers  High: 58 °F   \n",
       "8   ThursdayNight                ChanceShowers   Low: 50 °F   \n",
       "\n",
       "                                                desc  \n",
       "0  Overnight: Mostly cloudy, with a low around 46...  \n",
       "1  Monday: Patchy fog between 7am and 9am.  Other...  \n",
       "2  Monday Night: Mostly cloudy, with a low around...  \n",
       "3  Tuesday: Mostly cloudy, with a high near 58. W...  \n",
       "4  Tuesday Night: Partly cloudy, with a low aroun...  \n",
       "5             Wednesday: Sunny, with a high near 60.  \n",
       "6  Wednesday Night: Partly cloudy, with a low aro...  \n",
       "7  Thursday: A chance of showers.  Mostly cloudy,...  \n",
       "8  Thursday Night: A chance of showers.  Mostly c...  "
      ]
     },
     "execution_count": 32,
     "metadata": {},
     "output_type": "execute_result"
    }
   ],
   "source": [
    "weather = pd.DataFrame({\"period\": periods,\"short_desc\": short_descs,\"temp\": temps,\"desc\":descs})\n",
    "weather"
   ]
  },
  {
   "cell_type": "code",
   "execution_count": null,
   "metadata": {},
   "outputs": [],
   "source": []
  }
 ],
 "metadata": {
  "kernelspec": {
   "display_name": "Python 3",
   "language": "python",
   "name": "python3"
  },
  "language_info": {
   "codemirror_mode": {
    "name": "ipython",
    "version": 3
   },
   "file_extension": ".py",
   "mimetype": "text/x-python",
   "name": "python",
   "nbconvert_exporter": "python",
   "pygments_lexer": "ipython3",
   "version": "3.7.6"
  }
 },
 "nbformat": 4,
 "nbformat_minor": 4
}
