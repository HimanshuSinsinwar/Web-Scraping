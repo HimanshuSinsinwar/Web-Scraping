{
 "cells": [
  {
   "cell_type": "code",
   "execution_count": 2,
   "metadata": {},
   "outputs": [],
   "source": [
    "import requests\n",
    "import pandas as pd\n",
    "from selenium import webdriver"
   ]
  },
  {
   "cell_type": "code",
   "execution_count": 3,
   "metadata": {},
   "outputs": [
    {
     "name": "stderr",
     "output_type": "stream",
     "text": [
      "C:\\Users\\ADMIN\\anaconda3\\lib\\site-packages\\ipykernel_launcher.py:2: DeprecationWarning: executable_path has been deprecated, please pass in a Service object\n",
      "  \n"
     ]
    }
   ],
   "source": [
    "driver_path=r'C:\\Users\\ADMIN\\Documents\\chromedriver.exe'\n",
    "browser = webdriver.Chrome(executable_path=driver_path)"
   ]
  },
  {
   "cell_type": "code",
   "execution_count": 4,
   "metadata": {},
   "outputs": [],
   "source": [
    "browser.get(\"https://www.icc-cricket.com/rankings/mens/team-rankings/odi\")"
   ]
  },
  {
   "cell_type": "code",
   "execution_count": 11,
   "metadata": {},
   "outputs": [
    {
     "data": {
      "text/plain": [
       "['POS TEAM MATCHES POINTS RATING',\n",
       " '1\\nEngland\\n44 5,405 123',\n",
       " '2 India 52 6,102 117',\n",
       " '3 New Zealand 32 3,716 116',\n",
       " '4 Australia 39 4,344 111',\n",
       " '5 South Africa 31 3,345 108',\n",
       " '6 Pakistan 35 3,490 100',\n",
       " '7 Bangladesh 37 3,366 91',\n",
       " '8 Sri Lanka 39 3,297 85',\n",
       " '9 West Indies 46 3,402 74',\n",
       " '10 Afghanistan 31 1,844 59']"
      ]
     },
     "execution_count": 11,
     "metadata": {},
     "output_type": "execute_result"
    }
   ],
   "source": [
    "record_matches=browser.find_elements_by_xpath(\"//tr\")\n",
    "data_team=[]\n",
    "n=0\n",
    "for a in record_matches:\n",
    "        if n<11:\n",
    "            n+=1\n",
    "            data_team.append(a.text)\n",
    "        else:\n",
    "            pass\n",
    "data_team"
   ]
  },
  {
   "cell_type": "code",
   "execution_count": 13,
   "metadata": {},
   "outputs": [
    {
     "data": {
      "text/plain": [
       "['POS PLAYER TEAM RATING CAREER BEST RATING',\n",
       " '1\\nVirat Kohli\\nIND\\n870\\n911 v England, 12/07/2018',\n",
       " '2 Rohit Sharma IND 842 885 v Sri Lanka, 06/07/2019',\n",
       " '3 Babar Azam PAK 837 846 v Sri Lanka, 20/10/2017',\n",
       " '4 Ross Taylor NZ 818 841 v Bangladesh, 05/06/2019',\n",
       " '5 Aaron Finch AUS 791 798 v England, 25/06/2019',\n",
       " '6 Francois du Plessis SA 790 820 v Australia, 06/07/2019',\n",
       " '7 David Warner AUS 773 880 v Pakistan, 26/01/2017',\n",
       " '8 Kane Williamson NZ 765 799 v India, 09/07/2019',\n",
       " '9 Quinton de Kock SA 755 813 v Sri Lanka, 10/03/2019',\n",
       " '10 Jonny Bairstow ENG 754 777 v Australia, 21/06/2018']"
      ]
     },
     "execution_count": 13,
     "metadata": {},
     "output_type": "execute_result"
    }
   ],
   "source": [
    "browser.get(\"https://www.icc-cricket.com/rankings/mens/player-rankings/odi/batting\")\n",
    "record_batting=browser.find_elements_by_xpath(\"//tr\")\n",
    "data_men_bat=[]\n",
    "n=0\n",
    "for a in record_batting:\n",
    "        if n<11:\n",
    "            n+=1\n",
    "            data_men_bat.append(a.text)\n",
    "        else:\n",
    "            pass\n",
    "data_men_bat"
   ]
  },
  {
   "cell_type": "code",
   "execution_count": 14,
   "metadata": {},
   "outputs": [
    {
     "data": {
      "text/plain": [
       "['POS PLAYER TEAM RATING CAREER BEST RATING',\n",
       " '1\\nTrent Boult\\nNZ\\n722\\n770 v West Indies, 22/06/2019',\n",
       " '2 Mujeeb Ur Rahman AFG 708 712 v Ireland, 24/01/2021',\n",
       " '3 Jasprit Bumrah IND 700 841 v West Indies, 01/11/2018',\n",
       " '4 Mehedi Hasan BAN 694 694 v West Indies, 25/01/2021',\n",
       " '5 Chris Woakes ENG 675 676 v New Zealand, 14/07/2019',\n",
       " '6 Kagiso Rabada SA 665 724 v England, 29/05/2017',\n",
       " '7 Josh Hazlewood AUS 660 733 v England, 26/01/2018',\n",
       " '8 Mustafizur Rahman BAN 658 695 v West Indies, 14/12/2018',\n",
       " '9 Mohammad Amir PAK 647 663 v Sri Lanka, 02/10/2019',\n",
       " '10 Pat Cummins AUS 646 729 v Pakistan, 12/06/2019']"
      ]
     },
     "execution_count": 14,
     "metadata": {},
     "output_type": "execute_result"
    }
   ],
   "source": [
    "browser.get(\"https://www.icc-cricket.com/rankings/mens/player-rankings/odi/bowling\")\n",
    "record_bowler=browser.find_elements_by_xpath(\"//tr\")\n",
    "data_men_ball=[]\n",
    "n=0\n",
    "for a in record_bowler:\n",
    "        if n<11:\n",
    "            n+=1\n",
    "            data_men_ball.append(a.text)\n",
    "        else:\n",
    "            pass\n",
    "data_men_ball"
   ]
  },
  {
   "cell_type": "code",
   "execution_count": 15,
   "metadata": {},
   "outputs": [
    {
     "data": {
      "text/plain": [
       "['POS TEAM MATCHES POINTS RATING',\n",
       " '1\\nAustralia\\n15 2,436 162',\n",
       " '2 India 15 1,812 121',\n",
       " '3 England 14 1,670 119',\n",
       " '4 South Africa 19 2,090 110',\n",
       " '5 New Zealand 15 1,384 92',\n",
       " '6 West Indies 12 1,025 85',\n",
       " '7 Pakistan 15 1,101 73',\n",
       " '8 Bangladesh 5 306 61',\n",
       " '9 Sri Lanka 11 519 47',\n",
       " '10 Ireland 2 25 13']"
      ]
     },
     "execution_count": 15,
     "metadata": {},
     "output_type": "execute_result"
    }
   ],
   "source": [
    "browser.get(\"https://www.icc-cricket.com/rankings/womens/team-rankings/odi\")\n",
    "team_women=browser.find_elements_by_xpath(\"//tr\")\n",
    "team_women_ranking=[]\n",
    "n=0\n",
    "for a in team_women:\n",
    "        if n<11:\n",
    "            n+=1\n",
    "            team_women_ranking.append(a.text)\n",
    "        else:\n",
    "            pass\n",
    "team_women_ranking"
   ]
  },
  {
   "cell_type": "code",
   "execution_count": 16,
   "metadata": {},
   "outputs": [
    {
     "data": {
      "text/plain": [
       "['POS PLAYER TEAM RATING CAREER BEST RATING',\n",
       " '1\\nMeg Lanning\\nAUS\\n749\\n834 v New Zealand, 24/02/2016',\n",
       " '2 Stafanie Taylor WI 746 765 v India, 02/03/2012',\n",
       " '3 Alyssa Healy AUS 741 741 v New Zealand, 07/10/2020',\n",
       " '4 Smriti Mandhana IND 732 797 v England, 28/02/2019',\n",
       " '5 Amy Satterthwaite NZ 723 756 v Australia, 02/03/2017',\n",
       " '6 Tammy Beaumont ENG 716 738 v Australia, 04/07/2019',\n",
       " '7 Laura Wolvaardt SA 691 712 v New Zealand, 25/01/2020',\n",
       " 'Ellyse Perry AUS 691 766 v West Indies, 11/09/2019',\n",
       " '9 Mithali Raj IND 687 839 v Australia, 24/12/2004',\n",
       " '10 Lizelle Lee SA 681 752 v England, 12/06/2018']"
      ]
     },
     "execution_count": 16,
     "metadata": {},
     "output_type": "execute_result"
    }
   ],
   "source": [
    "browser.get(\"https://www.icc-cricket.com/rankings/womens/player-rankings/odi/batting\")\n",
    "top_women=browser.find_elements_by_xpath(\"//tr\")\n",
    "women_ranking=[]\n",
    "n=0\n",
    "for a in top_women:\n",
    "        if n<11:\n",
    "            n+=1\n",
    "            women_ranking.append(a.text)\n",
    "        else:\n",
    "            pass\n",
    "women_ranking"
   ]
  },
  {
   "cell_type": "code",
   "execution_count": 17,
   "metadata": {},
   "outputs": [
    {
     "data": {
      "text/plain": [
       "['POS PLAYER TEAM RATING CAREER BEST RATING',\n",
       " '1\\nEllyse Perry\\nAUS\\n460\\n548 v West Indies, 11/09/2019',\n",
       " '2 Stafanie Taylor WI 410 559 v New Zealand, 10/10/2013',\n",
       " '3 Marizanne Kapp SA 396 412 v Pakistan, 23/01/2021',\n",
       " '4 Deepti Sharma IND 359 397 v South Africa, 09/10/2019',\n",
       " '5 Jess Jonassen AUS 301 308 v West Indies, 11/09/2019',\n",
       " '6 Dane van Niekerk SA 297 421 v Sri Lanka, 11/02/2019',\n",
       " '7 Sophie Devine NZ 289 305 v Australia, 05/10/2020',\n",
       " '8 Natalie Sciver ENG 273 307 v Sri Lanka, 21/03/2019',\n",
       " '9 Shikha Pandey IND 250 262 v South Africa, 14/10/2019',\n",
       " '10 Katherine Brunt ENG 232 270 v Sri Lanka, 16/03/2019']"
      ]
     },
     "execution_count": 17,
     "metadata": {},
     "output_type": "execute_result"
    }
   ],
   "source": [
    "browser.get(\"https://www.icc-cricket.com/rankings/womens/player-rankings/odi/all-rounder\")\n",
    "top_women_allrounder=browser.find_elements_by_xpath(\"//tr\")\n",
    "women_ranking_allrounder=[]\n",
    "n=0\n",
    "for a in top_women_allrounder:\n",
    "        if n<11:\n",
    "            n+=1\n",
    "            women_ranking_allrounder.append(a.text)\n",
    "        else:\n",
    "            pass\n",
    "women_ranking_allrounder"
   ]
  },
  {
   "cell_type": "code",
   "execution_count": null,
   "metadata": {},
   "outputs": [],
   "source": []
  }
 ],
 "metadata": {
  "kernelspec": {
   "display_name": "Python 3",
   "language": "python",
   "name": "python3"
  },
  "language_info": {
   "codemirror_mode": {
    "name": "ipython",
    "version": 3
   },
   "file_extension": ".py",
   "mimetype": "text/x-python",
   "name": "python",
   "nbconvert_exporter": "python",
   "pygments_lexer": "ipython3",
   "version": "3.7.6"
  }
 },
 "nbformat": 4,
 "nbformat_minor": 4
}
